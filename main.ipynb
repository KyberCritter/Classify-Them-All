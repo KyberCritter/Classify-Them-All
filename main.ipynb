{
 "cells": [
  {
   "cell_type": "markdown",
   "metadata": {},
   "source": [
    "# Predicting Pokemon Types from Images and Statistics\n",
    "\n",
    "Scott Ratchford, (c) 2025\n",
    "\n",
    "See `LICENSE.txt` for license information."
   ]
  },
  {
   "cell_type": "markdown",
   "metadata": {},
   "source": [
    "## Setup"
   ]
  },
  {
   "cell_type": "markdown",
   "metadata": {},
   "source": [
    "### Constants and Parameters"
   ]
  },
  {
   "cell_type": "code",
   "execution_count": 1,
   "metadata": {},
   "outputs": [],
   "source": [
    "# Set paths to data files and directories\n",
    "\n",
    "import os\n",
    "import pandas as pd\n",
    "import numpy as np\n",
    "\n",
    "CWD = os.getcwd()\n",
    "\n",
    "# Input paths for data\n",
    "POKEDEX_PATH = os.path.join(CWD, \"data\", \"pokemon_images\", \"pokedex.csv\")   # Modified .csv file from \"Pokemon with Stats and Images\"\n",
    "PKMN_STATS_PATH = os.path.join(CWD, \"data\", \"pokemon_stats.csv\")            # .csv file from \"Pokemon Pokedex\"\n",
    "\n",
    "# Output paths for created and modified data\n",
    "PKMN_IMG_COLORS_PATH = os.path.join(CWD, \"pokemon_colors.csv\")              # Pokemon color data output\n",
    "\n",
    "RNG_SEED = 151"
   ]
  },
  {
   "cell_type": "markdown",
   "metadata": {},
   "source": [
    "### Import Datasets"
   ]
  },
  {
   "cell_type": "code",
   "execution_count": 2,
   "metadata": {},
   "outputs": [
    {
     "name": "stdout",
     "output_type": "stream",
     "text": [
      "Dropped 232 ignored Pokemon.\n",
      "PKMN stats rows: 983\n",
      "PKMN stats columns: ['Index', 'Name', 'Type 1', 'Type 2', 'Total', 'HP', 'Attack', 'Defense', 'SP. Atk.', 'SP. Def', 'Speed', 'Ignore', 'Filename']\n",
      "PKMN color rows: 959\n",
      "PKMN colors columns: ['Name', 'Type 1', 'Type 2', 'Filename', 'Number', 'Train', 'black', 'blue', 'pink', 'green', 'purple', 'red', 'white', 'yellow', 'orange']\n"
     ]
    }
   ],
   "source": [
    "from sklearn.preprocessing import LabelEncoder\n",
    "\n",
    "# Import in-game statistics dataset\n",
    "pkmn_stats = pd.read_csv(POKEDEX_PATH, encoding=\"utf-8\")\n",
    "size_before = pkmn_stats.shape[0]\n",
    "\n",
    "# Drop ignored rows\n",
    "pkmn_stats = pkmn_stats[pkmn_stats[\"Ignore\"] == False]\n",
    "print(f\"Dropped {size_before - pkmn_stats.shape[0]} ignored Pokemon.\")\n",
    "\n",
    "print(f\"PKMN stats rows: {pkmn_stats.shape[0]}\")\n",
    "print(f\"PKMN stats columns: {list(pkmn_stats.columns)}\")\n",
    "\n",
    "# Set Name to lowercase\n",
    "pkmn_stats[\"Name\"] = pkmn_stats[\"Name\"].apply(lambda x: x.lower())\n",
    "\n",
    "# Encode type strings (to ints)\n",
    "type_label_encoder = LabelEncoder()\n",
    "pkmn_stats[\"Type 1\"] = type_label_encoder.fit_transform(pkmn_stats[\"Type 1\"])\n",
    "pkmn_stats[\"Type 1\"] = pkmn_stats[\"Type 1\"].astype(dtype=int)\n",
    "pkmn_stats[\"Type 2\"] = type_label_encoder.fit_transform(pkmn_stats[\"Type 2\"])\n",
    "pkmn_stats[\"Type 2\"] = pkmn_stats[\"Type 2\"].astype(dtype=int)\n",
    "\n",
    "# Change NaN values to \"None\"\n",
    "pkmn_stats[\"Type 2\"] = pkmn_stats[\"Type 2\"].apply(lambda x: x if pd.notna(x) else \"None\")\n",
    "\n",
    "# Import image colors dataset\n",
    "pkmn_color_df = pd.read_csv(PKMN_IMG_COLORS_PATH, encoding=\"utf-8\", index_col=0)\n",
    "print(f\"PKMN color rows: {pkmn_color_df.shape[0]}\")\n",
    "print(f\"PKMN colors columns: {list(pkmn_color_df.columns)}\")\n",
    "\n",
    "# Add Number and Train columns to pkmn_stats\n",
    "pkmn_stats = pd.merge(pkmn_stats, pkmn_color_df[[\"Name\", \"Number\", \"Train\"]], on=[\"Name\", ], how=\"inner\")"
   ]
  },
  {
   "cell_type": "code",
   "execution_count": 3,
   "metadata": {},
   "outputs": [
    {
     "name": "stdout",
     "output_type": "stream",
     "text": [
      "Split Pokemon statistics into 767 training and 192 testing.\n"
     ]
    }
   ],
   "source": [
    "from sklearn.preprocessing import LabelEncoder\n",
    "from sklearn.model_selection import train_test_split\n",
    "\n",
    "# Drop columns that provide too much or unneeded information about the Pokemon\n",
    "drop_stats_cols = [\"Name\", \"Ignore\", \"Filename\", \"Number\", \"Train\", ]\n",
    "\n",
    "pkmn_stats_train = pkmn_stats[pkmn_stats[\"Train\"] == True]\n",
    "pkmn_stats_test = pkmn_stats[pkmn_stats[\"Train\"] == False]\n",
    "\n",
    "X_stats_train = pkmn_stats_train.drop(labels=(drop_stats_cols + [\"Type 1\", \"Type 2\", ]), axis=1)\n",
    "X_stats_test = pkmn_stats_test.drop(labels=(drop_stats_cols + [\"Type 1\", \"Type 2\", ]), axis=1)\n",
    "y_stats_train = pkmn_stats_train[[\"Type 1\", \"Type 2\", ]].copy()\n",
    "y_stats_test = pkmn_stats_test[[\"Type 1\", \"Type 2\", ]].copy()\n",
    "\n",
    "print(f\"Split Pokemon statistics into {X_stats_train.shape[0]} training and {X_stats_test.shape[0]} testing.\")"
   ]
  },
  {
   "cell_type": "markdown",
   "metadata": {},
   "source": [
    "## Helper Functions"
   ]
  },
  {
   "cell_type": "code",
   "execution_count": 13,
   "metadata": {},
   "outputs": [],
   "source": [
    "def either_correct(pred: tuple[str, str], true: tuple[str, str]) -> bool:\n",
    "    for p in pred:\n",
    "        if p == \"None\":\n",
    "            continue\n",
    "        if p in true:\n",
    "            return True\n",
    "    \n",
    "    return False\n",
    "\n",
    "def all_correct(pred: tuple[str, str], true: tuple[str, str]) -> bool:\n",
    "    if len(pred) != 2 or len(true) != 2:\n",
    "        raise ValueError(\"Length of pred and true must each be 2.\")\n",
    "    pred_set = set(pred)\n",
    "    if \"None\" in pred:\n",
    "        pred_set.remove(\"None\")\n",
    "        \n",
    "    return pred_set.intersection(set(true)) == set(pred)\n",
    "\n",
    "def either_accuracy_score(pred: pd.DataFrame, true: pd.DataFrame) -> float:\n",
    "    df = pd.merge(pred, true, how=\"left\", left_index=True, right_index=True)\n",
    "    print(df.columns)\n",
    "    df[\"either\"] = df.apply(lambda x: either_correct((x[\"Type 1\"], x[\"Type 2\"]), (x[\"Type 1 Pred\"], x[\"Type 2 Pred\"])), axis=1)\n",
    "\n",
    "    return df[\"either\"].mean()\n",
    "\n",
    "def both_accuracy_score(pred: pd.DataFrame, true: pd.DataFrame) -> float:\n",
    "    df = pd.merge(pred, true, how=\"left\", left_index=True, right_index=True)\n",
    "    df[\"both\"] = df.apply(lambda x: all_correct((x[\"Type 1\"], x[\"Type 2\"]), (x[\"Type 1 Pred\"], x[\"Type 2 Pred\"])), axis=1)\n",
    "\n",
    "    return df[\"both\"].mean()"
   ]
  },
  {
   "cell_type": "markdown",
   "metadata": {},
   "source": [
    "## Multi-Label Type Classification Based on In-Game Statistics\n",
    "\n",
    "These models use in-game statistics to predict the values of `Type 1` and `Type 2`."
   ]
  },
  {
   "cell_type": "markdown",
   "metadata": {},
   "source": [
    "### K-Nearest Neighbors"
   ]
  },
  {
   "cell_type": "code",
   "execution_count": null,
   "metadata": {},
   "outputs": [],
   "source": [
    "# Create the KNN model for in-game statistics\n",
    "from sklearn.neighbors import KNeighborsClassifier\n",
    "from sklearn.model_selection import GridSearchCV\n",
    "from sklearn.multioutput import MultiOutputClassifier\n",
    "\n",
    "# hyperparameters to try\n",
    "knn_stats_hyperparameters = {\n",
    "    \"n_neighbors\": range(3, 11),\n",
    "    \"leaf_size\": range(10, 41),\n",
    "    \"p\": range(1, 4),\n",
    "    \"weights\": (\"distance\", \"uniform\", ),\n",
    "    \"algorithm\": (\"kd_tree\", \"ball_tree\", ),\n",
    "}\n",
    "\n",
    "knn_stats_model = MultiOutputClassifier(GridSearchCV(KNeighborsClassifier(), knn_stats_hyperparameters, n_jobs=None), n_jobs=None)\n",
    "\n",
    "knn_stats_model = knn_stats_model.fit(X_stats_train, y_stats_train)"
   ]
  },
  {
   "cell_type": "code",
   "execution_count": 14,
   "metadata": {},
   "outputs": [
    {
     "name": "stdout",
     "output_type": "stream",
     "text": [
      "Index(['Type 1 Pred', 'Type 2 Pred', 'Type 1', 'Type 2'], dtype='object')\n",
      "Either type accuracy: 0.08333333333333333\n",
      "Both type accuracy: 0.0\n"
     ]
    }
   ],
   "source": [
    "knn_stats_pred = pd.DataFrame(knn_stats_model.predict(X_stats_test), columns=[\"Type 1 Pred\", \"Type 2 Pred\"])\n",
    "\n",
    "acc_either = either_accuracy_score(knn_stats_pred, y_stats_test)\n",
    "acc_both = both_accuracy_score(knn_stats_pred, y_stats_test)\n",
    "\n",
    "print(f\"Either type accuracy: {acc_either}\")\n",
    "print(f\"Both type accuracy: {acc_both}\")"
   ]
  },
  {
   "cell_type": "markdown",
   "metadata": {},
   "source": [
    "## Multi-Label Type Classification Based on Image Colors"
   ]
  },
  {
   "cell_type": "markdown",
   "metadata": {},
   "source": [
    "### Load Image Colors with Type 1 and Type 2"
   ]
  },
  {
   "cell_type": "code",
   "execution_count": 7,
   "metadata": {},
   "outputs": [
    {
     "name": "stdout",
     "output_type": "stream",
     "text": [
      "Color data for 767 testing Pokemon loaded.\n",
      "Color data for 192 testing Pokemon loaded.\n"
     ]
    }
   ],
   "source": [
    "pkmn_color_df = pd.read_csv(PKMN_IMG_COLORS_PATH, sep=\",\", encoding=\"utf-8\", index_col=0)\n",
    "\n",
    "pkmn_color_train_df = pkmn_color_df[pkmn_color_df[\"Train\"] == True]\n",
    "pkmn_color_test_df = pkmn_color_df[pkmn_color_df[\"Train\"] == False]\n",
    "\n",
    "print(f\"Color data for {pkmn_color_train_df.shape[0]} testing Pokemon loaded.\")\n",
    "print(f\"Color data for {pkmn_color_test_df.shape[0]} testing Pokemon loaded.\")"
   ]
  },
  {
   "cell_type": "code",
   "execution_count": 8,
   "metadata": {},
   "outputs": [],
   "source": [
    "from sklearn.preprocessing import StandardScaler\n",
    "\n",
    "drop_color_cols = []\n",
    "# Drop columns that provide too much information about the Pokemon\n",
    "drop_color_cols.extend([\"Name\", \"Number\", \"Filename\", ])\n",
    "# Drop other columns\n",
    "drop_color_cols.extend([\"Train\", ])\n",
    "# Drop columns containing target information\n",
    "drop_color_cols.extend([\"Type 1\", \"Type 2\", ])\n",
    "\n",
    "X_colors_train = pkmn_color_train_df.drop(labels=drop_color_cols, axis=1)\n",
    "X_colors_test = pkmn_color_test_df.drop(labels=drop_color_cols, axis=1)\n",
    "y_colors_train = pkmn_color_train_df[[\"Type 1\", \"Type 2\", ]].copy()\n",
    "y_colors_test = pkmn_color_test_df[[\"Type 1\", \"Type 2\", ]].copy()\n",
    "\n",
    "# Change NaN values to \"None\"\n",
    "y_colors_train[\"Type 2\"] = y_colors_train[\"Type 2\"].apply(lambda x: x if pd.notna(x) else \"None\")\n",
    "y_colors_test[\"Type 2\"] = y_colors_test[\"Type 2\"].apply(lambda x: x if pd.notna(x) else \"None\")\n",
    "\n",
    "# Scale color data\n",
    "color_cols = [\n",
    "    'black', 'blue', 'pink', 'green', 'purple', 'red', 'white', 'yellow', 'orange',\n",
    "]\n",
    "scaler = StandardScaler()\n",
    "X_colors_train[color_cols] = scaler.fit_transform(X_colors_train[color_cols])\n",
    "X_colors_test[color_cols] = scaler.fit_transform(X_colors_test[color_cols])"
   ]
  },
  {
   "cell_type": "markdown",
   "metadata": {},
   "source": [
    "### Random Forest with Multilabel Classification"
   ]
  },
  {
   "cell_type": "code",
   "execution_count": 9,
   "metadata": {},
   "outputs": [],
   "source": [
    "from sklearn.ensemble import RandomForestClassifier\n",
    "from sklearn.model_selection import GridSearchCV\n",
    "from sklearn.multioutput import MultiOutputClassifier\n",
    "\n",
    "# hyperparameters to try\n",
    "rf_multi_hyperparameters = {\n",
    "    \"criterion\": ['gini', ],    # 'entropy', 'log_loss'\n",
    "    \"n_estimators\": range(100, 500, 100),\n",
    "    \"min_samples_split\": range(2, 8, 2),\n",
    "    \"max_depth\": list(range(10, 25, 5)) + [None, ],\n",
    "    \"class_weight\": [\"balanced\", \"balanced_subsample\", ],\n",
    "    \"random_state\": (RNG_SEED, ),\n",
    "}\n",
    "\n",
    "rf_colors_multi_model = MultiOutputClassifier(GridSearchCV(RandomForestClassifier(), rf_multi_hyperparameters, n_jobs=None), n_jobs=None)\n",
    "\n",
    "rf_colors_multi_model = rf_colors_multi_model.fit(X_colors_train, y_colors_train)"
   ]
  },
  {
   "cell_type": "code",
   "execution_count": 15,
   "metadata": {},
   "outputs": [
    {
     "name": "stdout",
     "output_type": "stream",
     "text": [
      "Index(['Type 1 Pred', 'Type 2 Pred', 'Type 1', 'Type 2'], dtype='object')\n",
      "Either type accuracy: 0.2760416666666667\n",
      "Both type accuracy: 0.015625\n"
     ]
    }
   ],
   "source": [
    "rf_color_multi_pred = pd.DataFrame(rf_colors_multi_model.predict(X_colors_test), columns=[\"Type 1 Pred\", \"Type 2 Pred\"])\n",
    "\n",
    "acc_either = either_accuracy_score(rf_color_multi_pred, y_colors_test)\n",
    "acc_both = both_accuracy_score(rf_color_multi_pred, y_colors_test)\n",
    "\n",
    "print(f\"Either type accuracy: {acc_either}\")\n",
    "print(f\"Both type accuracy: {acc_both}\")"
   ]
  },
  {
   "cell_type": "markdown",
   "metadata": {},
   "source": [
    "### Multi-Layer Perceptron Neural Network with Multilabel Classification"
   ]
  },
  {
   "cell_type": "code",
   "execution_count": 11,
   "metadata": {},
   "outputs": [],
   "source": [
    "from sklearn.neural_network import MLPClassifier\n",
    "from sklearn.model_selection import GridSearchCV\n",
    "from sklearn.multioutput import MultiOutputClassifier\n",
    "\n",
    "# hyperparameters to try\n",
    "mlp_multi_hyperparameters = {\n",
    "    \"activation\": ('relu', ),\n",
    "    \"solver\": ('adam', ),\n",
    "    \"learning_rate\": ('constant', 'invscaling', ),\n",
    "    \"max_iter\": range(4000, 4500, 500),\n",
    "    \"n_iter_no_change\": range(4, 12, 2),\n",
    "    \"random_state\": (RNG_SEED, ),\n",
    "}\n",
    "\n",
    "mlp_colors_multi_model = MultiOutputClassifier(GridSearchCV(MLPClassifier(), mlp_multi_hyperparameters, n_jobs=None), n_jobs=None)\n",
    "mlp_colors_multi_model = mlp_colors_multi_model.fit(X_colors_train, y_colors_train)"
   ]
  },
  {
   "cell_type": "code",
   "execution_count": 16,
   "metadata": {},
   "outputs": [
    {
     "name": "stdout",
     "output_type": "stream",
     "text": [
      "Index(['Type 1 Pred', 'Type 2 Pred', 'Type 1', 'Type 2'], dtype='object')\n",
      "Either type accuracy: 0.2708333333333333\n",
      "Both type accuracy: 0.026041666666666668\n"
     ]
    }
   ],
   "source": [
    "mlp_color_multi_pred = pd.DataFrame(mlp_colors_multi_model.predict(X_colors_test), columns=[\"Type 1 Pred\", \"Type 2 Pred\"])\n",
    "\n",
    "acc_either = either_accuracy_score(mlp_color_multi_pred, y_colors_test)\n",
    "acc_both = both_accuracy_score(mlp_color_multi_pred, y_colors_test)\n",
    "\n",
    "print(f\"Either type accuracy: {acc_either}\")\n",
    "print(f\"Both type accuracy: {acc_both}\")"
   ]
  },
  {
   "cell_type": "code",
   "execution_count": null,
   "metadata": {},
   "outputs": [
    {
     "ename": "AttributeError",
     "evalue": "'list' object has no attribute 'to_clipboard'",
     "output_type": "error",
     "traceback": [
      "\u001b[31m---------------------------------------------------------------------------\u001b[39m",
      "\u001b[31mAttributeError\u001b[39m                            Traceback (most recent call last)",
      "\u001b[36mCell\u001b[39m\u001b[36m \u001b[39m\u001b[32mIn[20]\u001b[39m\u001b[32m, line 3\u001b[39m\n\u001b[32m      1\u001b[39m test = pd.read_csv(POKEDEX_PATH, encoding=\u001b[33m\"\u001b[39m\u001b[33mutf-8\u001b[39m\u001b[33m\"\u001b[39m)\n\u001b[32m      2\u001b[39m ignored = test[test[\u001b[33m\"\u001b[39m\u001b[33mIgnore\u001b[39m\u001b[33m\"\u001b[39m] == \u001b[38;5;28;01mTrue\u001b[39;00m][\u001b[33m\"\u001b[39m\u001b[33mName\u001b[39m\u001b[33m\"\u001b[39m].tolist()\n\u001b[32m----> \u001b[39m\u001b[32m3\u001b[39m \u001b[43mignored\u001b[49m\u001b[43m.\u001b[49m\u001b[43mto_clipboard\u001b[49m(\u001b[38;5;28;01mTrue\u001b[39;00m, sep=\u001b[33m\"\u001b[39m\u001b[33m, \u001b[39m\u001b[33m\"\u001b[39m)\n",
      "\u001b[31mAttributeError\u001b[39m: 'list' object has no attribute 'to_clipboard'"
     ]
    }
   ],
   "source": [
    "test = pd.read_csv(POKEDEX_PATH, encoding=\"utf-8\")\n",
    "ignored = test[test[\"Ignore\"] == True][\"Name\"].tolist()\n",
    "# ignored.to_clipboard(True, sep=\", \")\n",
    "print(ignored)"
   ]
  }
 ],
 "metadata": {
  "kernelspec": {
   "display_name": ".venv (3.13.1)",
   "language": "python",
   "name": "python3"
  },
  "language_info": {
   "codemirror_mode": {
    "name": "ipython",
    "version": 3
   },
   "file_extension": ".py",
   "mimetype": "text/x-python",
   "name": "python",
   "nbconvert_exporter": "python",
   "pygments_lexer": "ipython3",
   "version": "3.13.2"
  }
 },
 "nbformat": 4,
 "nbformat_minor": 2
}
